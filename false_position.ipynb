{
  "nbformat": 4,
  "nbformat_minor": 0,
  "metadata": {
    "colab": {
      "name": "false position.ipynb",
      "provenance": [],
      "authorship_tag": "ABX9TyOQOSadt2Bj7QR199NIIi5L",
      "include_colab_link": true
    },
    "kernelspec": {
      "name": "python3",
      "display_name": "Python 3"
    },
    "language_info": {
      "name": "python"
    }
  },
  "cells": [
    {
      "cell_type": "markdown",
      "metadata": {
        "id": "view-in-github",
        "colab_type": "text"
      },
      "source": [
        "<a href=\"https://colab.research.google.com/github/mimsabiha/Demo/blob/main/false_position.ipynb\" target=\"_parent\"><img src=\"https://colab.research.google.com/assets/colab-badge.svg\" alt=\"Open In Colab\"/></a>"
      ]
    },
    {
      "cell_type": "code",
      "metadata": {
        "id": "IYkZmD8rZdQS"
      },
      "source": [
        "def fun(x):\n",
        "    return  x*x*x  - x*x + 2"
      ],
      "execution_count": 3,
      "outputs": []
    },
    {
      "cell_type": "code",
      "metadata": {
        "id": "Ewpmglk3w7DJ"
      },
      "source": [
        "def regulafalsi(a,b,n):\n",
        "       if (fun(a) * fun(b)>0):\n",
        "          print(\"Please make a correct guess\")\n",
        "          return\n",
        "       c = a;\n",
        "       for i in range(n):\n",
        "         c = a - (fun(a)*(a-b))/(fun(a)-fun(b))\n",
        "         if(fun(c)==0.0):\n",
        "           return c\n",
        "         elif(fun(a)*fun(c)<0):\n",
        "           b = c\n",
        "         else:\n",
        "           a = c\n",
        "       return c             \n",
        "                "
      ],
      "execution_count": 10,
      "outputs": []
    },
    {
      "cell_type": "code",
      "metadata": {
        "colab": {
          "base_uri": "https://localhost:8080/"
        },
        "id": "sBQ7Jz1czHIk",
        "outputId": "a3310ca7-12fd-428e-afe8-12250db1d2af"
      },
      "source": [
        "a=int(input())\n",
        "b=int(input())\n",
        "n=int(input())\n",
        "print(regulafalsi(a,b,n))"
      ],
      "execution_count": 11,
      "outputs": [
        {
          "output_type": "stream",
          "name": "stdout",
          "text": [
            "-200\n",
            "300\n",
            "1000000\n",
            "-1.000000000001985\n"
          ]
        }
      ]
    }
  ]
}