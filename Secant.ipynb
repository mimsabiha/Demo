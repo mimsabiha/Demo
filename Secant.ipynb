{
  "nbformat": 4,
  "nbformat_minor": 0,
  "metadata": {
    "colab": {
      "name": "Secant.ipynb",
      "provenance": [],
      "authorship_tag": "ABX9TyMKIXhbSd3WwBPqs118UWVm",
      "include_colab_link": true
    },
    "kernelspec": {
      "name": "python3",
      "display_name": "Python 3"
    },
    "language_info": {
      "name": "python"
    }
  },
  "cells": [
    {
      "cell_type": "markdown",
      "metadata": {
        "id": "view-in-github",
        "colab_type": "text"
      },
      "source": [
        "<a href=\"https://colab.research.google.com/github/mimsabiha/Demo/blob/main/Secant.ipynb\" target=\"_parent\"><img src=\"https://colab.research.google.com/assets/colab-badge.svg\" alt=\"Open In Colab\"/></a>"
      ]
    },
    {
      "cell_type": "code",
      "metadata": {
        "id": "Ptrp5Fdj3RhF"
      },
      "source": [
        "import math\n",
        "def fun(x):\n",
        "       return  math.exp(-x)-x\n"
      ],
      "execution_count": 5,
      "outputs": []
    },
    {
      "cell_type": "code",
      "metadata": {
        "id": "cJQaWK1fPDX4"
      },
      "source": [
        "def secant(x1,x2,es,it):\n",
        "  if(fun(x1)*fun(x2)>0):\n",
        "    print(\"Please make an correct guess\")\n",
        "    return\n",
        "  step = 0\n",
        "  last = 1e15\n",
        "  ap = 1e15\n",
        "  while step<=it and abs(ap)>es:\n",
        "    if(fun(x1)==fun(x2)):\n",
        "       print(\"divide by zero\")\n",
        "       break\n",
        "    x = x2 - (fun(x2)*(x1-x2))/(fun(x1)-fun(x2))\n",
        "    x1 = x2\n",
        "    x2 = x\n",
        "    ap = (abs(x-last)/x) * 100\n",
        "    last = x\n",
        "    step = step +1\n",
        "  if(step>it and abs(ap) >= es):\n",
        "     print('\\nDiverged')\n",
        "  else:\n",
        "     print('\\nRequired Root is : %0.8f' % x)   \n",
        "\n",
        "           \n",
        "\n"
      ],
      "execution_count": 15,
      "outputs": []
    },
    {
      "cell_type": "code",
      "metadata": {
        "colab": {
          "base_uri": "https://localhost:8080/"
        },
        "id": "drKRc41-Nx_Y",
        "outputId": "f71a7d61-a198-428c-aca6-43ac32762442"
      },
      "source": [
        "l = input('First Guess: ')\n",
        "r = input('Second Guess: ')\n",
        "es = input('Tolerable Error: ')\n",
        "it = input('Max iteration: ')\n",
        "\n",
        "l = float(l)\n",
        "r = float(r)\n",
        "es = float(es)\n",
        "it = int(it)\n",
        "\n",
        "secant(l, r, es, it)"
      ],
      "execution_count": 16,
      "outputs": [
        {
          "output_type": "stream",
          "name": "stdout",
          "text": [
            "First Guess: 0\n",
            "Second Guess: 1\n",
            "Tolerable Error: 0.0005\n",
            "Max iteration: 100000000\n",
            "\n",
            "Required Root is : 0.56714329\n"
          ]
        }
      ]
    }
  ]
}