{
  "nbformat": 4,
  "nbformat_minor": 0,
  "metadata": {
    "colab": {
      "name": "NewtonRapsn.ipynb",
      "provenance": [],
      "authorship_tag": "ABX9TyOV9zk+pPN5OE17pib//Ycl",
      "include_colab_link": true
    },
    "kernelspec": {
      "name": "python3",
      "display_name": "Python 3"
    },
    "language_info": {
      "name": "python"
    }
  },
  "cells": [
    {
      "cell_type": "markdown",
      "metadata": {
        "id": "view-in-github",
        "colab_type": "text"
      },
      "source": [
        "<a href=\"https://colab.research.google.com/github/mimsabiha/Demo/blob/main/NewtonRapsn.ipynb\" target=\"_parent\"><img src=\"https://colab.research.google.com/assets/colab-badge.svg\" alt=\"Open In Colab\"/></a>"
      ]
    },
    {
      "cell_type": "code",
      "metadata": {
        "id": "dUlQNxJVWo_1"
      },
      "source": [
        "def f(x):\n",
        "  return x*x-5*x+6"
      ],
      "execution_count": 7,
      "outputs": []
    },
    {
      "cell_type": "code",
      "metadata": {
        "id": "8_sCKmFbaGXK"
      },
      "source": [
        "def deri(x):\n",
        "  return 2*x-5"
      ],
      "execution_count": 8,
      "outputs": []
    },
    {
      "cell_type": "code",
      "metadata": {
        "id": "prl2DnXJW9al"
      },
      "source": [
        "def newton(x,es,it):\n",
        "  step = 1\n",
        "  ap = 1e15\n",
        "  last = 1e15\n",
        "  while step<=it and abs(ap)> =es:\n",
        "    if(f(x)==0):\n",
        "      print(\"divide by zero\")\n",
        "      break\n",
        "    h = f(x) - deri(x)\n",
        "    x = x-h\n",
        "    ap = (abs(x-last)/x)  * 100\n",
        "    last = x\n",
        "    step +=1\n",
        "\n",
        "  if(step>it or abs(ap) >= es): \n",
        "    print(\"diverged\")\n",
        "  else:\n",
        "    print(x)      "
      ],
      "execution_count": 12,
      "outputs": []
    },
    {
      "cell_type": "code",
      "metadata": {
        "id": "DwV6pfEwbIpl"
      },
      "source": [
        "x = float(input(\"first guess:\"))\n",
        "es = float(input(\"tolerable error\"))\n",
        "it = int(input(\"Maximum iteration\"))\n",
        "newton(x,es,it)"
      ],
      "execution_count": null,
      "outputs": []
    }
  ]
}