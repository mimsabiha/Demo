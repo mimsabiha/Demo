{
  "nbformat": 4,
  "nbformat_minor": 0,
  "metadata": {
    "colab": {
      "name": "bisection.ipynb",
      "provenance": [],
      "authorship_tag": "ABX9TyMC8cIIG1PeZh2etcETn3VY",
      "include_colab_link": true
    },
    "kernelspec": {
      "name": "python3",
      "display_name": "Python 3"
    },
    "language_info": {
      "name": "python"
    }
  },
  "cells": [
    {
      "cell_type": "markdown",
      "metadata": {
        "id": "view-in-github",
        "colab_type": "text"
      },
      "source": [
        "<a href=\"https://colab.research.google.com/github/mimsabiha/Demo/blob/main/bisection.ipynb\" target=\"_parent\"><img src=\"https://colab.research.google.com/assets/colab-badge.svg\" alt=\"Open In Colab\"/></a>"
      ]
    },
    {
      "cell_type": "code",
      "metadata": {
        "colab": {
          "base_uri": "https://localhost:8080/"
        },
        "id": "_K2vj1NCpwwo",
        "outputId": "47f161e2-41f2-4d96-a819-a65fcc0b308f"
      },
      "source": [
        "def fun(x):\n",
        "       return 5*x*x - 3*x -14\n",
        "def bisect(a,b):\n",
        "    c=a\n",
        "    if(fun(a)*fun(b)>0):\n",
        "       print(\"your guess is wrong.Please make another guess\")\n",
        "       return\n",
        "    while (b-a)>=0.01:    \n",
        "                 c = a+b/2\n",
        "                 if fun(a)*fun(c)<0:\n",
        "                    b = c\n",
        "                 if fun(b)*fun(c) <0 :  \n",
        "                    a=c\n",
        "                 if fun(c)==0.0 :  \n",
        "                    break\n",
        "    return c \n",
        "a = int(input())\n",
        "b = int(input())\n",
        "print(bisect(a,b))                  \n",
        "\n",
        "                    "
      ],
      "execution_count": 23,
      "outputs": [
        {
          "output_type": "stream",
          "name": "stdout",
          "text": [
            "-1\n",
            "4\n",
            "2.0\n"
          ]
        }
      ]
    }
  ]
}